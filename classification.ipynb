{
 "metadata": {
  "language_info": {
   "codemirror_mode": {
    "name": "ipython",
    "version": 3
   },
   "file_extension": ".py",
   "mimetype": "text/x-python",
   "name": "python",
   "nbconvert_exporter": "python",
   "pygments_lexer": "ipython3",
   "version": "3.9.6"
  },
  "orig_nbformat": 4,
  "kernelspec": {
   "name": "python3",
   "display_name": "Python 3.9.6 64-bit"
  },
  "interpreter": {
   "hash": "aee8b7b246df8f9039afb4144a1f6fd8d2ca17a180786b69acc140d282b71a49"
  }
 },
 "nbformat": 4,
 "nbformat_minor": 2,
 "cells": [
  {
   "cell_type": "code",
   "execution_count": 1,
   "source": [
    "import os\n",
    "import sys\n",
    "import pandas as pd\n",
    "from bs4 import BeautifulSoup"
   ],
   "outputs": [],
   "metadata": {}
  },
  {
   "cell_type": "code",
   "execution_count": 2,
   "source": [
    "def inputData(path):\n",
    "    soup = BeautifulSoup(open(path),'html.parser')\n",
    "    # Empty List\n",
    "    data = []\n",
    "    list_header = []\n",
    "\n",
    "    # Header\n",
    "    header = soup.find_all(\"table\")[2].find(\"tr\")\n",
    "    for items in header:\n",
    "        try:\n",
    "            list_header.append(items.get_text())\n",
    "        except:\n",
    "            continue\n",
    "    # print(\"List Header : :\",list_header)\n",
    "\n",
    "    # Data\n",
    "    HTML_data = soup.find_all(\"table\")[2].find_all(\"tr\")[1:]\n",
    "    for element in HTML_data:\n",
    "        sub_data = []\n",
    "        for sub_element in element:\n",
    "            try:\n",
    "                sub_data.append(sub_element.get_text())\n",
    "            except:\n",
    "                continue\n",
    "        data.append(sub_data)\n",
    "    \n",
    "    dataframe = pd.DataFrame(data=data, columns=list_header)\n",
    "    \n",
    "    # Check Validation Nama Institusi\n",
    "    instituteName_list = [\"kampus\", \"campus\", \"universitas\", \"institut\", \"sekolah\", \"madrasah\", \"university\", \"school\",]\n",
    "    sum_data = 0\n",
    "    for column in list_header:\n",
    "        for instituteName in instituteName_list:\n",
    "            if column == instituteName:\n",
    "                # print(column, \"Detect\")\n",
    "                data = dataframe[column].value_counts().sum()\n",
    "                blank = sum(dataframe[column] == '')\n",
    "                sum_data = data-blank\n",
    "                # print('Jumlah Data :', sum_data,\"\\n\")\n",
    "    return sum_data"
   ],
   "outputs": [],
   "metadata": {}
  },
  {
   "cell_type": "code",
   "execution_count": 4,
   "source": [
    "from pathlib import Path\n",
    "total = 0\n",
    "for path in Path(\"website_1\").iterdir():\n",
    "    if path.is_file():\n",
    "        total += inputData(path)\n",
    "print(total)"
   ],
   "outputs": [
    {
     "output_type": "stream",
     "name": "stdout",
     "text": [
      "26\n"
     ]
    }
   ],
   "metadata": {
    "tags": []
   }
  },
  {
   "cell_type": "code",
   "execution_count": 1,
   "source": [],
   "outputs": [
    {
     "output_type": "stream",
     "name": "stdout",
     "text": [
      "Requirement already satisfied: ipython in /Users/mac/Library/Python/3.9/lib/python/site-packages (7.25.0)\n",
      "Requirement already satisfied: appnope in /Users/mac/Library/Python/3.9/lib/python/site-packages (from ipython) (0.1.2)\n",
      "Requirement already satisfied: matplotlib-inline in /Users/mac/Library/Python/3.9/lib/python/site-packages (from ipython) (0.1.2)\n",
      "Requirement already satisfied: jedi>=0.16 in /Users/mac/Library/Python/3.9/lib/python/site-packages (from ipython) (0.18.0)\n",
      "Requirement already satisfied: setuptools>=18.5 in /usr/local/lib/python3.9/site-packages (from ipython) (57.0.0)\n",
      "Requirement already satisfied: pexpect>4.3 in /Users/mac/Library/Python/3.9/lib/python/site-packages (from ipython) (4.8.0)\n",
      "Requirement already satisfied: pickleshare in /Users/mac/Library/Python/3.9/lib/python/site-packages (from ipython) (0.7.5)\n",
      "Requirement already satisfied: traitlets>=4.2 in /Users/mac/Library/Python/3.9/lib/python/site-packages (from ipython) (5.0.5)\n",
      "Requirement already satisfied: decorator in /Users/mac/Library/Python/3.9/lib/python/site-packages (from ipython) (5.0.9)\n",
      "Requirement already satisfied: pygments in /Users/mac/Library/Python/3.9/lib/python/site-packages (from ipython) (2.9.0)\n",
      "Requirement already satisfied: backcall in /Users/mac/Library/Python/3.9/lib/python/site-packages (from ipython) (0.2.0)\n",
      "Requirement already satisfied: prompt-toolkit!=3.0.0,!=3.0.1,<3.1.0,>=2.0.0 in /Users/mac/Library/Python/3.9/lib/python/site-packages (from ipython) (3.0.19)\n",
      "Requirement already satisfied: parso<0.9.0,>=0.8.0 in /Users/mac/Library/Python/3.9/lib/python/site-packages (from jedi>=0.16->ipython) (0.8.2)\n",
      "Requirement already satisfied: ptyprocess>=0.5 in /Users/mac/Library/Python/3.9/lib/python/site-packages (from pexpect>4.3->ipython) (0.7.0)\n",
      "Requirement already satisfied: wcwidth in /Users/mac/Library/Python/3.9/lib/python/site-packages (from prompt-toolkit!=3.0.0,!=3.0.1,<3.1.0,>=2.0.0->ipython) (0.2.5)\n",
      "Requirement already satisfied: ipython-genutils in /Users/mac/Library/Python/3.9/lib/python/site-packages (from traitlets>=4.2->ipython) (0.2.0)\n",
      "Note: you may need to restart the kernel to use updated packages.\n"
     ]
    }
   ],
   "metadata": {}
  },
  {
   "cell_type": "code",
   "execution_count": null,
   "source": [],
   "outputs": [],
   "metadata": {}
  }
 ]
}