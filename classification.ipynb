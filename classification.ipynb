{
 "metadata": {
  "language_info": {
   "codemirror_mode": {
    "name": "ipython",
    "version": 3
   },
   "file_extension": ".py",
   "mimetype": "text/x-python",
   "name": "python",
   "nbconvert_exporter": "python",
   "pygments_lexer": "ipython3",
   "version": "3.9.6"
  },
  "orig_nbformat": 4,
  "kernelspec": {
   "name": "python3",
   "display_name": "Python 3.9.6 64-bit"
  },
  "interpreter": {
   "hash": "aee8b7b246df8f9039afb4144a1f6fd8d2ca17a180786b69acc140d282b71a49"
  }
 },
 "nbformat": 4,
 "nbformat_minor": 2,
 "cells": [
  {
   "cell_type": "code",
   "execution_count": 1,
   "metadata": {},
   "outputs": [],
   "source": [
    "import os\n",
    "import sys\n",
    "import pandas as pd\n",
    "from bs4 import BeautifulSoup"
   ]
  },
  {
   "cell_type": "code",
   "execution_count": 2,
   "metadata": {},
   "outputs": [],
   "source": [
    "def inputData(path):\n",
    "    soup = BeautifulSoup(open(path),'html.parser')\n",
    "    # Empty List\n",
    "    data = []\n",
    "    list_header = []\n",
    "\n",
    "    # Header\n",
    "    header = soup.find_all(\"table\")[2].find(\"tr\")\n",
    "    for items in header:\n",
    "        try:\n",
    "            list_header.append(items.get_text())\n",
    "        except:\n",
    "            continue\n",
    "    # print(\"List Header : :\",list_header)\n",
    "\n",
    "    # Data\n",
    "    HTML_data = soup.find_all(\"table\")[2].find_all(\"tr\")[1:]\n",
    "    for element in HTML_data:\n",
    "        sub_data = []\n",
    "        for sub_element in element:\n",
    "            try:\n",
    "                sub_data.append(sub_element.get_text())\n",
    "            except:\n",
    "                continue\n",
    "        data.append(sub_data)\n",
    "    \n",
    "    dataframe = pd.DataFrame(data=data, columns=list_header)\n",
    "    \n",
    "    # Check Validation Nama Institusi\n",
    "    instituteName_list = [\"kampus\", \"campus\", \"universitas\", \"institut\", \"sekolah\", \"madrasah\", \"university\", \"school\",]\n",
    "    sum_data = 0\n",
    "    for column in list_header:\n",
    "        for instituteName in instituteName_list:\n",
    "            if column == instituteName:\n",
    "                # print(column, \"Detect\")\n",
    "                data = dataframe[column].value_counts().sum()\n",
    "                blank = sum(dataframe[column] == '')\n",
    "                sum_data = data-blank\n",
    "                # print('Jumlah Data :', sum_data,\"\\n\")\n",
    "    return sum_data"
   ]
  },
  {
   "cell_type": "code",
   "execution_count": 4,
   "metadata": {
    "tags": []
   },
   "outputs": [
    {
     "output_type": "stream",
     "name": "stdout",
     "text": [
      "26\n"
     ]
    }
   ],
   "source": [
    "from pathlib import Path\n",
    "total = 0\n",
    "for path in Path(\"website_1\").iterdir():\n",
    "    if path.is_file():\n",
    "        total += inputData(path)\n",
    "print(total)"
   ]
  }
 ]
}