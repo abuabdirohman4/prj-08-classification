{
 "metadata": {
  "language_info": {
   "codemirror_mode": {
    "name": "ipython",
    "version": 3
   },
   "file_extension": ".py",
   "mimetype": "text/x-python",
   "name": "python",
   "nbconvert_exporter": "python",
   "pygments_lexer": "ipython3",
   "version": "3.9.6"
  },
  "orig_nbformat": 4,
  "kernelspec": {
   "name": "python3",
   "display_name": "Python 3.9.6 64-bit"
  },
  "interpreter": {
   "hash": "aee8b7b246df8f9039afb4144a1f6fd8d2ca17a180786b69acc140d282b71a49"
  }
 },
 "nbformat": 4,
 "nbformat_minor": 2,
 "cells": [
  {
   "cell_type": "code",
   "execution_count": 7,
   "source": [
    "import os\n",
    "import sys\n",
    "import pandas as pd\n",
    "from bs4 import BeautifulSoup\n",
    "from pathlib import Path"
   ],
   "outputs": [],
   "metadata": {}
  },
  {
   "cell_type": "code",
   "execution_count": 8,
   "source": [
    "def getHeader(file):\n",
    "    soup = BeautifulSoup(open(file),'html.parser')\n",
    "    headerList = []\n",
    "\n",
    "    # Get Header Data\n",
    "    header = soup.find_all(\"table\")[2].find(\"tr\")\n",
    "    for items in header:\n",
    "        try:\n",
    "            headerList.append(items.get_text())\n",
    "        except:\n",
    "            continue\n",
    "    # print(\"List Header : :\",headerList)\n",
    "    return headerList"
   ],
   "outputs": [],
   "metadata": {}
  },
  {
   "cell_type": "code",
   "execution_count": 9,
   "source": [
    "def getMainData(file, header):\n",
    "    soup = BeautifulSoup(open(file),'html.parser')\n",
    "    data = []\n",
    "\n",
    "    # Get Main Data\n",
    "    HTML_data = soup.find_all(\"table\")[2].find_all(\"tr\")[1:]\n",
    "    for element in HTML_data:\n",
    "        sub_data = []\n",
    "        for sub_element in element:\n",
    "            try:\n",
    "                sub_data.append(sub_element.get_text())\n",
    "            except:\n",
    "                continue\n",
    "        data.append(sub_data)\n",
    "\n",
    "    dataframe = pd.DataFrame(data=data, columns=header)\n",
    "\n",
    "    return dataframe"
   ],
   "outputs": [],
   "metadata": {}
  },
  {
   "cell_type": "code",
   "execution_count": 11,
   "source": [
    "# Get sum of indicator data\n",
    "def findVariable(header, data, indicator):        \n",
    "    result_indicator = 0\n",
    "    for column in header:\n",
    "        for variable in indicator:\n",
    "            if column == variable:\n",
    "                # print(column, \"Detect\")\n",
    "                dataframe = data[column].value_counts().sum()\n",
    "                blank = sum(data[column] == '')\n",
    "                result_indicator = dataframe-blank\n",
    "                # print('Jumlah Data :', sum_data,\"\\n\")\n",
    "    return result_indicator\n",
    "# institute_name_sum = findVariable(institute_name)"
   ],
   "outputs": [],
   "metadata": {}
  },
  {
   "cell_type": "code",
   "execution_count": 10,
   "source": [
    "# Directory Information\n",
    "institute_name = [\"kampus\", \"campus\", \"universitas\", \"institut\", \"sekolah\", \"madrasah\", \"university\", \"school\",]\n",
    "accreditation = ['akreditasi', 'accreditation']\n",
    "institute_address = ['alamat', 'sddress']\n",
    "institute_number = ['number', 'no', 'phone']\n",
    "\n",
    "# Educational Information\n",
    "educational_history = ['riwayat_pendidikan', 'educational_history']\n",
    "educational_medicine = ['catatan_rekam_medis', 'medicine']\n",
    "educational_grade =[ 'grade', 'nilai']\n",
    "\n",
    "# Personally Identifiable\n",
    "personal_number = ['number', 'no', 'phone']\n",
    "personal_address = ['address', 'alamat']\n",
    "personal_birthday = ['birthday', 'bornday']\n",
    "personal_religion = ['agama', 'religion']\n",
    "personal_gender = ['gender', 'jenis_kelamin']\n",
    "personal_parent = ['orang_tua', 'parent', 'parent_name', 'parents']\n",
    "personal_photo = ['photo', 'foto']"
   ],
   "outputs": [],
   "metadata": {}
  },
  {
   "cell_type": "code",
   "execution_count": 16,
   "source": [
    "# Get sum of a coumn data on every file\n",
    "total_institute_name = total_accreditation = total_institute_address = total_institute_number = 0\n",
    "total_educational_history = total_educational_medicine = total_educational_grade = 0\n",
    "total_personal_number = total_personal_address = total_personal_birthday = total_personal_religion = total_personal_gender = total_personal_parent = total_personal_photo = 0\n",
    "\n",
    "for file in Path(\"website_used\").iterdir():\n",
    "    # Get Main Data\n",
    "    header = getHeader(file)\n",
    "    data = getMainData(file, header)\n",
    "    \n",
    "    # # Get sum of indicator\n",
    "    # sumVarible = findVariable(header, data, institute_name)\n",
    "\n",
    "    if file.is_file():\n",
    "        # Directory Information\n",
    "        total_institute_name += findVariable(header, data, institute_name)\n",
    "        total_accreditation += findVariable(header, data, accreditation)\n",
    "        total_institute_address += findVariable(header, data, institute_address)\n",
    "        total_institute_number += findVariable(header, data, institute_number)\n",
    "\n",
    "        # Educational Information\n",
    "        total_educational_history += findVariable(header, data, educational_history)\n",
    "        total_educational_medicine += findVariable(header, data, educational_medicine)\n",
    "        total_educational_grade += findVariable(header, data, educational_grade)\n",
    "\n",
    "        # Personally Identifiable\n",
    "        total_personal_number += findVariable(header, data, personal_number)\n",
    "        total_personal_address += findVariable(header, data, personal_number)\n",
    "        total_personal_birthday += findVariable(header, data, personal_birthday)\n",
    "        total_personal_religion += findVariable(header, data, personal_religion)\n",
    "        total_personal_gender += findVariable(header, data, personal_gender)\n",
    "        total_personal_parent += findVariable(header, data, personal_parent)\n",
    "        total_personal_photo += findVariable(header, data, personal_photo)\n",
    "\n",
    "print(\"Directory Information\")\n",
    "print(\"Nama Institusi : \", total_institute_name)\n",
    "print(\"Akreditasi : \", total_accreditation)\n",
    "print(\"Alamat Institusi : \", total_institute_address)\n",
    "print(\"Nomor Telepon : \", total_institute_number,\"\\n\")\n",
    "\n",
    "print(\"Educational Information\")\n",
    "print(\"Riwayat Pendidikan : \", total_educational_history)\n",
    "print(\"Catatan Rekam Medis : \", total_educational_medicine)\n",
    "print(\"Nilai : \", total_educational_grade,\"\\n\")\n",
    "\n",
    "print(\"Personally Identifiable\")\n",
    "print(\"No Hp Siswa : \", total_personal_number)\n",
    "print(\"Alamat Rumah Siswa : \", total_personal_address)\n",
    "print(\"Tempat Tanggal Lahir : \", total_personal_birthday)\n",
    "print(\"Agama : \", total_personal_religion)\n",
    "print(\"Jenis Kelamin : \", total_personal_gender)\n",
    "print(\"Nama Orang Tua : \", total_personal_parent)\n",
    "print(\"Foto Diri : \", total_personal_photo)"
   ],
   "outputs": [
    {
     "output_type": "stream",
     "name": "stdout",
     "text": [
      "Directory Information\n",
      "Nama Institusi :  26\n",
      "Akreditasi :  0\n",
      "Alamat Institusi :  0\n",
      "Nomor Telepon :  0 \n",
      "\n",
      "Educational Information\n",
      "Riwayat Pendidikan :  0\n",
      "Catatan Rekam Medis :  0\n",
      "Nilai :  0 \n",
      "\n",
      "Personally Identifiable\n",
      "No Hp Siswa :  0\n",
      "Alamat Rumah Siswa :  0\n",
      "Tempat Tanggal Lahir :  0\n",
      "Agama :  0\n",
      "Jenis Kelamin :  0\n",
      "Nama Orang Tua :  0\n",
      "Foto Diri :  0\n"
     ]
    }
   ],
   "metadata": {
    "tags": []
   }
  },
  {
   "cell_type": "code",
   "execution_count": 17,
   "source": [
    "# End Result\n",
    "directory_information = total_institute_name + total_accreditation + total_institute_address + total_institute_number\n",
    "educational_information = total_educational_history + total_educational_medicine + total_educational_grade\n",
    "personally_identifiable = total_personal_number + total_personal_address + total_personal_birthday + total_personal_religion + total_personal_gender + total_personal_parent + total_personal_photo\n",
    "\n",
    "print(\"Directory Information : \", directory_information)\n",
    "print(\"Educational Information : \", educational_information)\n",
    "print(\"Personally Identifiable : \", personally_identifiable)"
   ],
   "outputs": [
    {
     "output_type": "stream",
     "name": "stdout",
     "text": [
      "Directory Information :  26\n"
     ]
    }
   ],
   "metadata": {}
  },
  {
   "cell_type": "code",
   "execution_count": null,
   "source": [],
   "outputs": [],
   "metadata": {}
  }
 ]
}