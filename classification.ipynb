{
 "metadata": {
  "language_info": {
   "codemirror_mode": {
    "name": "ipython",
    "version": 3
   },
   "file_extension": ".py",
   "mimetype": "text/x-python",
   "name": "python",
   "nbconvert_exporter": "python",
   "pygments_lexer": "ipython3",
   "version": "3.9.6"
  },
  "orig_nbformat": 4,
  "kernelspec": {
   "name": "python3",
   "display_name": "Python 3.9.6 64-bit"
  },
  "interpreter": {
   "hash": "aee8b7b246df8f9039afb4144a1f6fd8d2ca17a180786b69acc140d282b71a49"
  }
 },
 "nbformat": 4,
 "nbformat_minor": 2,
 "cells": [
  {
   "cell_type": "code",
   "execution_count": null,
   "source": [
    "import os\n",
    "import sys\n",
    "import pandas as pd\n",
    "from bs4 import BeautifulSoup\n",
    "from pathlib import Path\n",
    "import xlsxwriter\n",
    "import statistics"
   ],
   "outputs": [],
   "metadata": {}
  },
  {
   "cell_type": "markdown",
   "source": [
    "# Get Header Data"
   ],
   "metadata": {}
  },
  {
   "cell_type": "code",
   "execution_count": null,
   "source": [
    "def getHeader(file):\n",
    "    with open(file, encoding='utf8') as infile:\n",
    "        soup = BeautifulSoup(infile,'html.parser')\n",
    "        headerList = []\n",
    "\n",
    "        # Get Header Data\n",
    "        header = soup.find_all(\"table\")[2].find(\"tr\")\n",
    "        for items in header:\n",
    "            try:\n",
    "                headerList.append(items.get_text())\n",
    "            except:\n",
    "                continue\n",
    "        return headerList"
   ],
   "outputs": [],
   "metadata": {}
  },
  {
   "cell_type": "markdown",
   "source": [
    "# Get Main Data"
   ],
   "metadata": {}
  },
  {
   "cell_type": "code",
   "execution_count": null,
   "source": [
    "def getMainData(file, header):\n",
    "    with open(file, encoding='utf8') as infile:\n",
    "        soup = BeautifulSoup(infile,'html.parser')\n",
    "        data = []\n",
    "\n",
    "        # Get Main Data\n",
    "        HTML_data = soup.find_all(\"table\")[2].find_all(\"tr\")[1:]\n",
    "        for element in HTML_data:\n",
    "            sub_data = []\n",
    "            for sub_element in element:\n",
    "                try:\n",
    "                    sub_data.append(sub_element.get_text())\n",
    "                except:\n",
    "                    continue\n",
    "            data.append(sub_data)\n",
    "\n",
    "        dataframe = pd.DataFrame(data=data, columns=header)\n",
    "\n",
    "        return dataframe"
   ],
   "outputs": [],
   "metadata": {}
  },
  {
   "cell_type": "markdown",
   "source": [
    "# Get Indicator"
   ],
   "metadata": {}
  },
  {
   "cell_type": "code",
   "execution_count": null,
   "source": [
    "# Get sum of indicator data\n",
    "def findVariable(header, data, indicator):\n",
    "    result_indicator = 0\n",
    "    for column in header:\n",
    "        for variable in indicator:\n",
    "            if column == variable:\n",
    "                dataframe = data[column].value_counts().sum()\n",
    "                blank = sum(data[column] == '')\n",
    "                result_indicator = dataframe-blank\n",
    "    return result_indicator"
   ],
   "outputs": [],
   "metadata": {}
  },
  {
   "cell_type": "markdown",
   "source": [
    "# Get Accuracy"
   ],
   "metadata": {}
  },
  {
   "cell_type": "code",
   "execution_count": null,
   "source": [
    "# Get sum of indicator data\n",
    "def getAccuracy(header, data, indicator):\n",
    "    result_indicator = accuracy = 0\n",
    "    for column in header:\n",
    "        for variable in indicator:\n",
    "            if column == variable:\n",
    "                dataframe = data[column].value_counts().sum()\n",
    "                blank = sum(data[column] == '')\n",
    "                result_indicator = dataframe-blank\n",
    "                accuracy = result_indicator/dataframe\n",
    "    return accuracy"
   ],
   "outputs": [],
   "metadata": {}
  },
  {
   "cell_type": "markdown",
   "source": [
    "# Keywords"
   ],
   "metadata": {}
  },
  {
   "cell_type": "code",
   "execution_count": null,
   "source": [
    "# Directory Information\n",
    "institute_name = [\"kampus\", \"campus\", \"universitas\", \"institut\", \"sekolah\", \"madrasah\", \"university\", \"school\",]\n",
    "accreditation = ['akreditasi', 'accreditation']\n",
    "institute_address = ['alamat', 'sddress']\n",
    "institute_number = ['number', 'no', 'phone']\n",
    "\n",
    "# Educational Information\n",
    "educational_history = ['riwayat_pendidikan', 'educational_history']\n",
    "educational_medicine = ['catatan_rekam_medis', 'medicine']\n",
    "educational_grade =[ 'grade', 'nilai']\n",
    "\n",
    "# Personally Identifiable\n",
    "personal_number = ['number', 'no', 'phone']\n",
    "personal_address = ['address', 'alamat']\n",
    "personal_birthday = ['birthday', 'bornday']\n",
    "personal_religion = ['agama', 'religion']\n",
    "personal_gender = ['gender', 'jenis_kelamin']\n",
    "personal_parent = ['orang_tua', 'parent', 'parent_name', 'parents']\n",
    "personal_photo = ['photo', 'foto']"
   ],
   "outputs": [],
   "metadata": {}
  },
  {
   "cell_type": "markdown",
   "source": [
    "# Get Result of Indicator & Accuracy"
   ],
   "metadata": {}
  },
  {
   "cell_type": "code",
   "execution_count": null,
   "source": [
    "# Get sum of a column data on every file\n",
    "total_institute_name = total_accreditation = total_institute_address = total_institute_number = 0\n",
    "total_educational_history = total_educational_medicine = total_educational_grade = 0\n",
    "total_personal_number = total_personal_address = total_personal_birthday = total_personal_religion = total_personal_gender = total_personal_parent = total_personal_photo = 0\n",
    "\n",
    "# Get sum of accuracy column data on every file\n",
    "accuracy_institute_name = accuracy_accreditation = accuracy_institute_address = accuracy_institute_number = 0\n",
    "accuracy_educational_history = accuracy_educational_medicine = accuracy_educational_grade = 0\n",
    "accuracy_personal_number = accuracy_personal_address = accuracy_personal_birthday = accuracy_personal_religion = accuracy_personal_gender = accuracy_personal_parent = accuracy_personal_photo = 0\n",
    "\n",
    "\n",
    "for file in Path(\"website/website 1\").iterdir():\n",
    "    # Get Main Data\n",
    "    header = getHeader(file)\n",
    "    data = getMainData(file, header)\n",
    "\n",
    "    if file.is_file():\n",
    "        # Directory Information\n",
    "        total_institute_name += findVariable(header, data, institute_name)\n",
    "        total_accreditation += findVariable(header, data, accreditation)\n",
    "        total_institute_address += findVariable(header, data, institute_address)\n",
    "        total_institute_number += findVariable(header, data, institute_number)\n",
    "\n",
    "        # Educational Information\n",
    "        total_educational_history += findVariable(header, data, educational_history)\n",
    "        total_educational_medicine += findVariable(header, data, educational_medicine)\n",
    "        total_educational_grade += findVariable(header, data, educational_grade)\n",
    "\n",
    "        # Personally Identifiable\n",
    "        total_personal_number += findVariable(header, data, personal_number)\n",
    "        total_personal_address += findVariable(header, data, personal_number)\n",
    "        total_personal_birthday += findVariable(header, data, personal_birthday)\n",
    "        total_personal_religion += findVariable(header, data, personal_religion)\n",
    "        total_personal_gender += findVariable(header, data, personal_gender)\n",
    "        total_personal_parent += findVariable(header, data, personal_parent)\n",
    "        total_personal_photo += findVariable(header, data, personal_photo)\n",
    "\n",
    "        # Accuracy\n",
    "        # Directory Information\n",
    "        accuracy_institute_name += getAccuracy(header, data, institute_name)\n",
    "        accuracy_accreditation += getAccuracy(header, data, accreditation)\n",
    "        accuracy_institute_address += getAccuracy(header, data, institute_address)\n",
    "        accuracy_institute_number += getAccuracy(header, data, institute_number)\n",
    "\n",
    "        # Educational Information\n",
    "        accuracy_educational_history += getAccuracy(header, data, educational_history)\n",
    "        accuracy_educational_medicine += getAccuracy(header, data, educational_medicine)\n",
    "        accuracy_educational_grade += getAccuracy(header, data, educational_grade)\n",
    "\n",
    "        # Personally Identifiable\n",
    "        accuracy_personal_number += getAccuracy(header, data, personal_number)\n",
    "        accuracy_personal_address += getAccuracy(header, data, personal_number)\n",
    "        accuracy_personal_birthday += getAccuracy(header, data, personal_birthday)\n",
    "        accuracy_personal_religion += getAccuracy(header, data, personal_religion)\n",
    "        accuracy_personal_gender += getAccuracy(header, data, personal_gender)\n",
    "        accuracy_personal_parent += getAccuracy(header, data, personal_parent)\n",
    "        accuracy_personal_photo += getAccuracy(header, data, personal_photo)\n",
    "\n",
    "print(\"Directory Information\")\n",
    "print(\"Nama Institusi : \", total_institute_name)\n",
    "print(\"Akreditasi : \", total_accreditation)\n",
    "print(\"Alamat Institusi : \", total_institute_address)\n",
    "print(\"Nomor Telepon : \", total_institute_number,\"\\n\")\n",
    "\n",
    "print(\"Educational Information\")\n",
    "print(\"Riwayat Pendidikan : \", total_educational_history)\n",
    "print(\"Catatan Rekam Medis : \", total_educational_medicine)\n",
    "print(\"Nilai : \", total_educational_grade,\"\\n\")\n",
    "\n",
    "print(\"Personally Identifiable\")\n",
    "print(\"No Hp Siswa : \", total_personal_number)\n",
    "print(\"Alamat Rumah Siswa : \", total_personal_address)\n",
    "print(\"Tempat Tanggal Lahir : \", total_personal_birthday)\n",
    "print(\"Agama : \", total_personal_religion)\n",
    "print(\"Jenis Kelamin : \", total_personal_gender)\n",
    "print(\"Nama Orang Tua : \", total_personal_parent)\n",
    "print(\"Foto Diri : \", total_personal_photo)"
   ],
   "outputs": [],
   "metadata": {
    "tags": []
   }
  },
  {
   "cell_type": "markdown",
   "source": [
    "# End Result"
   ],
   "metadata": {}
  },
  {
   "cell_type": "code",
   "execution_count": null,
   "source": [
    "# End Result\n",
    "directory_information = total_institute_name + total_accreditation + total_institute_address + total_institute_number\n",
    "educational_information = total_educational_history + total_educational_medicine + total_educational_grade\n",
    "personally_identifiable = total_personal_number + total_personal_address + total_personal_birthday + total_personal_religion + total_personal_gender + total_personal_parent + total_personal_photo\n",
    "\n",
    "print(\"Directory Information : \", directory_information)\n",
    "print(\"Educational Information : \", educational_information)\n",
    "print(\"Personally Identifiable : \", personally_identifiable)"
   ],
   "outputs": [],
   "metadata": {}
  },
  {
   "cell_type": "code",
   "execution_count": null,
   "source": [
    "accuracy_directory_information_list = [accuracy_institute_name,accuracy_accreditation,accuracy_institute_address,accuracy_institute_number]\n",
    "accuracy_educational_information_list = [accuracy_educational_history,accuracy_educational_medicine,accuracy_educational_grade]\n",
    "accuracy_personally_identifiable_list = [accuracy_personal_number,accuracy_personal_address,accuracy_personal_birthday,accuracy_personal_religion,accuracy_personal_gender,accuracy_personal_parent,accuracy_personal_photo]\n",
    "\n",
    "accuracy_directory_information = statistics.mean(accuracy_directory_information_list)\n",
    "accuracy_educational_information = statistics.mean(accuracy_educational_information_list)\n",
    "accuracy_personally_identifiable = statistics.mean(accuracy_personally_identifiable_list)\n",
    "\n",
    "accuracy_website = (accuracy_directory_information+accuracy_educational_information+accuracy_personally_identifiable) / 3\n",
    "print(\"Accuracy Website : \", str(round(accuracy_website, 3)),\"%\")\n",
    "\n",
    "output_accuracy = \"Accuracy Website = {0:.2%}\".format(accuracy_website)"
   ],
   "outputs": [],
   "metadata": {}
  },
  {
   "cell_type": "markdown",
   "source": [
    "# Preparation Data for Excel"
   ],
   "metadata": {}
  },
  {
   "cell_type": "code",
   "execution_count": null,
   "source": [
    "# Preparation Data\n",
    "directory_indicator = [\"Nama Institusi\",\"Akreditasi\",\"Alamat Institusi\",\"Nomor Telepon\"]\n",
    "educational_indicator = [\"Riwayat Pendidikan\",\"Catatan Rekam Medis\",\"Nilai\"]\n",
    "personally_indicator = [\"No HP Siswa\",\"Alamat Rumah Siswa\",\"Tempat Tanggal Lahir\",\"Agama\",\"Jenis Kelamin\",\"Nama Orang Tua\",\"Foto Diri\"]\n",
    "result_directory_indicator = [total_institute_name,total_accreditation,total_institute_address,total_institute_number]\n",
    "result_educational_indicator = [total_educational_history,total_educational_medicine,total_educational_grade]\n",
    "result_personally_indicator = [total_personal_number,total_personal_address,total_personal_birthday,total_personal_religion,total_personal_gender,total_personal_parent,total_personal_photo]"
   ],
   "outputs": [],
   "metadata": {}
  },
  {
   "cell_type": "code",
   "execution_count": null,
   "source": [
    "def merge(list1,list2):\n",
    "    merged_list = tuple(zip(list1,list2))\n",
    "    return merged_list"
   ],
   "outputs": [],
   "metadata": {}
  },
  {
   "cell_type": "code",
   "execution_count": null,
   "source": [
    "directory = merge(directory_indicator,result_directory_indicator)\n",
    "educational = merge(educational_indicator,result_educational_indicator)\n",
    "personally = merge(personally_indicator,result_personally_indicator)"
   ],
   "outputs": [],
   "metadata": {}
  },
  {
   "cell_type": "markdown",
   "source": [
    "# Excel Output"
   ],
   "metadata": {}
  },
  {
   "cell_type": "code",
   "execution_count": null,
   "source": [
    "# Create a workbook and add a worksheet.\n",
    "workbook = xlsxwriter.Workbook('Output.xlsx')\n",
    "worksheet = workbook.add_worksheet()\n",
    "\n",
    "# Format Cell\n",
    "align_format = workbook.add_format({'align': 'center'})\n",
    "border_format = workbook.add_format({'border':1})\n",
    "worksheet.conditional_format( 'A1:F10' , {'type' : 'blanks','format' : border_format} )\n",
    "worksheet.conditional_format( 'A1:F10' , {'type' : 'no_blanks','format' : border_format} )\n",
    "worksheet.conditional_format( 'A12:F12' , {'type' : 'no_blanks','format' : border_format} )"
   ],
   "outputs": [],
   "metadata": {}
  },
  {
   "cell_type": "code",
   "execution_count": null,
   "source": [
    "def excelOutput(category,col_indicator,col_data,total):\n",
    "    row = 1\n",
    "    row_total = 9\n",
    "    \n",
    "    # Sub Header\n",
    "    worksheet.write(row, col_indicator, 'Indikator')\n",
    "    worksheet.write(row, col_data, 'Data', align_format)\n",
    "    row += 1\n",
    "\n",
    "    for indicator, data in category:\n",
    "        worksheet.write(row, col_indicator, indicator)\n",
    "        worksheet.write(row, col_data, data, align_format)\n",
    "        row += 1 \n",
    "\n",
    "    worksheet.write(row_total, col_data, total, align_format)"
   ],
   "outputs": [],
   "metadata": {}
  },
  {
   "cell_type": "code",
   "execution_count": null,
   "source": [
    "# Column Size\n",
    "worksheet.set_column('A:A', 15)\n",
    "worksheet.set_column('C:C', 20)\n",
    "worksheet.set_column('E:E', 22)\n",
    "\n",
    "# Header\n",
    "worksheet.merge_range('A1:B1', 'Directory Information', align_format)\n",
    "worksheet.merge_range('C1:D1', 'Educational Information', align_format)\n",
    "worksheet.merge_range('E1:F1', 'Personally Identifiable', align_format)\n",
    "worksheet.merge_range('A12:B12', output_accuracy, align_format)\n",
    "\n",
    "# Main Data\n",
    "excelOutput(directory,0,1,'=SUM(B1:B7)')\n",
    "excelOutput(educational,2,3,'=SUM(D1:D7)')\n",
    "excelOutput(personally,4,5,'=SUM(F1:F7)')"
   ],
   "outputs": [],
   "metadata": {}
  },
  {
   "cell_type": "code",
   "execution_count": null,
   "source": [
    "# Total Data & Save File\n",
    "worksheet.write(9, 0, 'Total', align_format)\n",
    "workbook.close()"
   ],
   "outputs": [],
   "metadata": {}
  },
  {
   "cell_type": "code",
   "execution_count": null,
   "source": [],
   "outputs": [],
   "metadata": {}
  }
 ]
}