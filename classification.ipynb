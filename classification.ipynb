{
 "metadata": {
  "language_info": {
   "codemirror_mode": {
    "name": "ipython",
    "version": 3
   },
   "file_extension": ".py",
   "mimetype": "text/x-python",
   "name": "python",
   "nbconvert_exporter": "python",
   "pygments_lexer": "ipython3",
   "version": "3.9.6"
  },
  "orig_nbformat": 4,
  "kernelspec": {
   "name": "python3",
   "display_name": "Python 3.9.6 64-bit"
  },
  "interpreter": {
   "hash": "aee8b7b246df8f9039afb4144a1f6fd8d2ca17a180786b69acc140d282b71a49"
  }
 },
 "nbformat": 4,
 "nbformat_minor": 2,
 "cells": [
  {
   "cell_type": "code",
   "execution_count": 1,
   "source": [
    "import os\n",
    "import sys\n",
    "import pandas as pd\n",
    "from bs4 import BeautifulSoup\n",
    "from pathlib import Path"
   ],
   "outputs": [],
   "metadata": {}
  },
  {
   "cell_type": "code",
   "execution_count": 2,
   "source": [
    "def getHeader(file):\n",
    "    with open(file, encoding='utf8') as infile:\n",
    "        soup = BeautifulSoup(infile,'html.parser')\n",
    "        headerList = []\n",
    "\n",
    "        # Get Header Data\n",
    "        header = soup.find_all(\"table\")[2].find(\"tr\")\n",
    "        for items in header:\n",
    "            try:\n",
    "                headerList.append(items.get_text())\n",
    "            except:\n",
    "                continue\n",
    "        # print(\"List Header : :\",headerList)\n",
    "        return headerList"
   ],
   "outputs": [],
   "metadata": {}
  },
  {
   "cell_type": "code",
   "execution_count": 3,
   "source": [
    "def getMainData(file, header):\n",
    "    with open(file, encoding='utf8') as infile:\n",
    "        soup = BeautifulSoup(infile,'html.parser')\n",
    "        data = []\n",
    "\n",
    "        # Get Main Data\n",
    "        HTML_data = soup.find_all(\"table\")[2].find_all(\"tr\")[1:]\n",
    "        for element in HTML_data:\n",
    "            sub_data = []\n",
    "            for sub_element in element:\n",
    "                try:\n",
    "                    sub_data.append(sub_element.get_text())\n",
    "                except:\n",
    "                    continue\n",
    "            data.append(sub_data)\n",
    "\n",
    "        dataframe = pd.DataFrame(data=data, columns=header)\n",
    "\n",
    "        return dataframe"
   ],
   "outputs": [],
   "metadata": {}
  },
  {
   "cell_type": "code",
   "execution_count": 4,
   "source": [
    "# Get sum of indicator data\n",
    "def findVariable(header, data, indicator):        \n",
    "    result_indicator = 0\n",
    "    for column in header:\n",
    "        for variable in indicator:\n",
    "            if column == variable:\n",
    "                # print(column, \"Detect\")\n",
    "                dataframe = data[column].value_counts().sum()\n",
    "                blank = sum(data[column] == '')\n",
    "                result_indicator = dataframe-blank\n",
    "                # print('Jumlah Data :', sum_data,\"\\n\")\n",
    "    return result_indicator\n",
    "# institute_name_sum = findVariable(institute_name)"
   ],
   "outputs": [],
   "metadata": {}
  },
  {
   "cell_type": "code",
   "execution_count": 5,
   "source": [
    "# Directory Information\n",
    "institute_name = [\"kampus\", \"campus\", \"universitas\", \"institut\", \"sekolah\", \"madrasah\", \"university\", \"school\",]\n",
    "accreditation = ['akreditasi', 'accreditation']\n",
    "institute_address = ['alamat', 'sddress']\n",
    "institute_number = ['number', 'no', 'phone']\n",
    "\n",
    "# Educational Information\n",
    "educational_history = ['riwayat_pendidikan', 'educational_history']\n",
    "educational_medicine = ['catatan_rekam_medis', 'medicine']\n",
    "educational_grade =[ 'grade', 'nilai']\n",
    "\n",
    "# Personally Identifiable\n",
    "personal_number = ['number', 'no', 'phone']\n",
    "personal_address = ['address', 'alamat']\n",
    "personal_birthday = ['birthday', 'bornday']\n",
    "personal_religion = ['agama', 'religion']\n",
    "personal_gender = ['gender', 'jenis_kelamin']\n",
    "personal_parent = ['orang_tua', 'parent', 'parent_name', 'parents']\n",
    "personal_photo = ['photo', 'foto']"
   ],
   "outputs": [],
   "metadata": {}
  },
  {
   "cell_type": "code",
   "execution_count": 6,
   "source": [
    "# Get sum of a coumn data on every file\n",
    "total_institute_name = total_accreditation = total_institute_address = total_institute_number = 0\n",
    "total_educational_history = total_educational_medicine = total_educational_grade = 0\n",
    "total_personal_number = total_personal_address = total_personal_birthday = total_personal_religion = total_personal_gender = total_personal_parent = total_personal_photo = 0\n",
    "\n",
    "for file in Path(\"website_used\").iterdir():\n",
    "    # Get Main Data\n",
    "    header = getHeader(file)\n",
    "    data = getMainData(file, header)\n",
    "    \n",
    "    # # Get sum of indicator\n",
    "    # sumVarible = findVariable(header, data, institute_name)\n",
    "\n",
    "    if file.is_file():\n",
    "        # Directory Information\n",
    "        total_institute_name += findVariable(header, data, institute_name)\n",
    "        total_accreditation += findVariable(header, data, accreditation)\n",
    "        total_institute_address += findVariable(header, data, institute_address)\n",
    "        total_institute_number += findVariable(header, data, institute_number)\n",
    "\n",
    "        # Educational Information\n",
    "        total_educational_history += findVariable(header, data, educational_history)\n",
    "        total_educational_medicine += findVariable(header, data, educational_medicine)\n",
    "        total_educational_grade += findVariable(header, data, educational_grade)\n",
    "\n",
    "        # Personally Identifiable\n",
    "        total_personal_number += findVariable(header, data, personal_number)\n",
    "        total_personal_address += findVariable(header, data, personal_number)\n",
    "        total_personal_birthday += findVariable(header, data, personal_birthday)\n",
    "        total_personal_religion += findVariable(header, data, personal_religion)\n",
    "        total_personal_gender += findVariable(header, data, personal_gender)\n",
    "        total_personal_parent += findVariable(header, data, personal_parent)\n",
    "        total_personal_photo += findVariable(header, data, personal_photo)\n",
    "\n",
    "print(\"Directory Information\")\n",
    "print(\"Nama Institusi : \", total_institute_name)\n",
    "print(\"Akreditasi : \", total_accreditation)\n",
    "print(\"Alamat Institusi : \", total_institute_address)\n",
    "print(\"Nomor Telepon : \", total_institute_number,\"\\n\")\n",
    "\n",
    "print(\"Educational Information\")\n",
    "print(\"Riwayat Pendidikan : \", total_educational_history)\n",
    "print(\"Catatan Rekam Medis : \", total_educational_medicine)\n",
    "print(\"Nilai : \", total_educational_grade,\"\\n\")\n",
    "\n",
    "print(\"Personally Identifiable\")\n",
    "print(\"No Hp Siswa : \", total_personal_number)\n",
    "print(\"Alamat Rumah Siswa : \", total_personal_address)\n",
    "print(\"Tempat Tanggal Lahir : \", total_personal_birthday)\n",
    "print(\"Agama : \", total_personal_religion)\n",
    "print(\"Jenis Kelamin : \", total_personal_gender)\n",
    "print(\"Nama Orang Tua : \", total_personal_parent)\n",
    "print(\"Foto Diri : \", total_personal_photo)"
   ],
   "outputs": [
    {
     "output_type": "error",
     "ename": "TypeError",
     "evalue": "expected str, bytes or os.PathLike object, not TextIOWrapper",
     "traceback": [
      "\u001b[0;31m---------------------------------------------------------------------------\u001b[0m",
      "\u001b[0;31mTypeError\u001b[0m                                 Traceback (most recent call last)",
      "\u001b[0;32m/var/folders/w9/c1qwg84j0m73bgx7dkrtltzm0000gn/T/ipykernel_1848/1148482587.py\u001b[0m in \u001b[0;36m<module>\u001b[0;34m\u001b[0m\n\u001b[1;32m      6\u001b[0m \u001b[0;32mfor\u001b[0m \u001b[0mfile\u001b[0m \u001b[0;32min\u001b[0m \u001b[0mPath\u001b[0m\u001b[0;34m(\u001b[0m\u001b[0;34m\"website_used\"\u001b[0m\u001b[0;34m)\u001b[0m\u001b[0;34m.\u001b[0m\u001b[0miterdir\u001b[0m\u001b[0;34m(\u001b[0m\u001b[0;34m)\u001b[0m\u001b[0;34m:\u001b[0m\u001b[0;34m\u001b[0m\u001b[0;34m\u001b[0m\u001b[0m\n\u001b[1;32m      7\u001b[0m     \u001b[0;31m# Get Main Data\u001b[0m\u001b[0;34m\u001b[0m\u001b[0;34m\u001b[0m\u001b[0;34m\u001b[0m\u001b[0m\n\u001b[0;32m----> 8\u001b[0;31m     \u001b[0mheader\u001b[0m \u001b[0;34m=\u001b[0m \u001b[0mgetHeader\u001b[0m\u001b[0;34m(\u001b[0m\u001b[0mfile\u001b[0m\u001b[0;34m)\u001b[0m\u001b[0;34m\u001b[0m\u001b[0;34m\u001b[0m\u001b[0m\n\u001b[0m\u001b[1;32m      9\u001b[0m     \u001b[0mdata\u001b[0m \u001b[0;34m=\u001b[0m \u001b[0mgetMainData\u001b[0m\u001b[0;34m(\u001b[0m\u001b[0mfile\u001b[0m\u001b[0;34m,\u001b[0m \u001b[0mheader\u001b[0m\u001b[0;34m)\u001b[0m\u001b[0;34m\u001b[0m\u001b[0;34m\u001b[0m\u001b[0m\n\u001b[1;32m     10\u001b[0m \u001b[0;34m\u001b[0m\u001b[0m\n",
      "\u001b[0;32m/var/folders/w9/c1qwg84j0m73bgx7dkrtltzm0000gn/T/ipykernel_1848/1805585107.py\u001b[0m in \u001b[0;36mgetHeader\u001b[0;34m(file)\u001b[0m\n\u001b[1;32m      1\u001b[0m \u001b[0;32mdef\u001b[0m \u001b[0mgetHeader\u001b[0m\u001b[0;34m(\u001b[0m\u001b[0mfile\u001b[0m\u001b[0;34m)\u001b[0m\u001b[0;34m:\u001b[0m\u001b[0;34m\u001b[0m\u001b[0;34m\u001b[0m\u001b[0m\n\u001b[1;32m      2\u001b[0m     \u001b[0;32mwith\u001b[0m \u001b[0mopen\u001b[0m\u001b[0;34m(\u001b[0m\u001b[0mfile\u001b[0m\u001b[0;34m,\u001b[0m \u001b[0mencoding\u001b[0m\u001b[0;34m=\u001b[0m\u001b[0;34m'utf8'\u001b[0m\u001b[0;34m)\u001b[0m \u001b[0;32mas\u001b[0m \u001b[0minfile\u001b[0m\u001b[0;34m:\u001b[0m\u001b[0;34m\u001b[0m\u001b[0;34m\u001b[0m\u001b[0m\n\u001b[0;32m----> 3\u001b[0;31m         \u001b[0msoup\u001b[0m \u001b[0;34m=\u001b[0m \u001b[0mBeautifulSoup\u001b[0m\u001b[0;34m(\u001b[0m\u001b[0mopen\u001b[0m\u001b[0;34m(\u001b[0m\u001b[0minfile\u001b[0m\u001b[0;34m)\u001b[0m\u001b[0;34m,\u001b[0m\u001b[0;34m'html.parser'\u001b[0m\u001b[0;34m)\u001b[0m\u001b[0;34m\u001b[0m\u001b[0;34m\u001b[0m\u001b[0m\n\u001b[0m\u001b[1;32m      4\u001b[0m         \u001b[0mheaderList\u001b[0m \u001b[0;34m=\u001b[0m \u001b[0;34m[\u001b[0m\u001b[0;34m]\u001b[0m\u001b[0;34m\u001b[0m\u001b[0;34m\u001b[0m\u001b[0m\n\u001b[1;32m      5\u001b[0m \u001b[0;34m\u001b[0m\u001b[0m\n",
      "\u001b[0;31mTypeError\u001b[0m: expected str, bytes or os.PathLike object, not TextIOWrapper"
     ]
    }
   ],
   "metadata": {
    "tags": []
   }
  },
  {
   "cell_type": "code",
   "execution_count": null,
   "source": [
    "# End Result\n",
    "directory_information = total_institute_name + total_accreditation + total_institute_address + total_institute_number\n",
    "educational_information = total_educational_history + total_educational_medicine + total_educational_grade\n",
    "personally_identifiable = total_personal_number + total_personal_address + total_personal_birthday + total_personal_religion + total_personal_gender + total_personal_parent + total_personal_photo\n",
    "\n",
    "print(\"Directory Information : \", directory_information)\n",
    "print(\"Educational Information : \", educational_information)\n",
    "print(\"Personally Identifiable : \", personally_identifiable)"
   ],
   "outputs": [],
   "metadata": {}
  },
  {
   "cell_type": "code",
   "execution_count": null,
   "source": [],
   "outputs": [],
   "metadata": {}
  }
 ]
}