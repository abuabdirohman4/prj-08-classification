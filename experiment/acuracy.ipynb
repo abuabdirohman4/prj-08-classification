{
 "cells": [
  {
   "cell_type": "code",
   "execution_count": 4,
   "source": [
    "# Get sum of indicator data\n",
    "def findVariable(dataframe,blank):     \n",
    "    # dataframe = 26\n",
    "    # blank = 0\n",
    "    result_indicator = dataframe-blank\n",
    "    accuracy = result_indicator/dataframe\n",
    "\n",
    "    return result_indicator, accuracy"
   ],
   "outputs": [],
   "metadata": {}
  },
  {
   "cell_type": "code",
   "execution_count": 5,
   "source": [
    "output1,output2 = findVariable(26,3)"
   ],
   "outputs": [],
   "metadata": {}
  },
  {
   "cell_type": "code",
   "execution_count": 6,
   "source": [
    "print(output1)\n",
    "# print(\"{0:.0%}\".format(1./3))\n",
    "print('Accuracy :', \"{:.2%}\".format(output2))"
   ],
   "outputs": [
    {
     "output_type": "stream",
     "name": "stdout",
     "text": [
      "23\n",
      "Accuracy : 88.46%\n"
     ]
    }
   ],
   "metadata": {}
  },
  {
   "cell_type": "code",
   "execution_count": 39,
   "source": [
    "import statistics\n",
    "\n",
    "# spiList = [5.55, 5.72, 7.3, 7.75, 8.4, 9, 8.8, 8.2]\n",
    "spiList = [10,5,7]\n",
    "result2 = statistics.mean(spiList)\n",
    "result = str(round(statistics.mean(spiList), 2))\n",
    "# result = str(round(statistics.mean(spiList), 2))\n",
    "print(result,\"%\")\n",
    "# print(\"{0:.2%}\".format(result2))\n",
    "print(\"{0:.3g}\".format(result2))"
   ],
   "outputs": [
    {
     "output_type": "stream",
     "name": "stdout",
     "text": [
      "7.33 %\n",
      "7.33\n"
     ]
    }
   ],
   "metadata": {}
  },
  {
   "cell_type": "code",
   "execution_count": null,
   "source": [],
   "outputs": [],
   "metadata": {}
  }
 ],
 "metadata": {
  "orig_nbformat": 4,
  "language_info": {
   "name": "python",
   "version": "3.9.6",
   "mimetype": "text/x-python",
   "codemirror_mode": {
    "name": "ipython",
    "version": 3
   },
   "pygments_lexer": "ipython3",
   "nbconvert_exporter": "python",
   "file_extension": ".py"
  },
  "kernelspec": {
   "name": "python3",
   "display_name": "Python 3.9.6 64-bit"
  },
  "interpreter": {
   "hash": "aee8b7b246df8f9039afb4144a1f6fd8d2ca17a180786b69acc140d282b71a49"
  }
 },
 "nbformat": 4,
 "nbformat_minor": 2
}